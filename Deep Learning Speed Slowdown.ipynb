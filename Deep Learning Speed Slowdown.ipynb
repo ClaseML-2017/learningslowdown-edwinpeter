{
 "cells": [
  {
   "cell_type": "code",
   "execution_count": 219,
   "metadata": {},
   "outputs": [],
   "source": [
    "# Edwin Peter\n",
    "# 177019"
   ]
  },
  {
   "cell_type": "markdown",
   "metadata": {},
   "source": [
    "# Sigmoid"
   ]
  },
  {
   "cell_type": "code",
   "execution_count": 67,
   "metadata": {},
   "outputs": [
    {
     "data": {
      "image/png": "[encoded data removed]",
      "text/plain": [
       "<matplotlib.figure.Figure at 0x119c115d0>"
      ]
     },
     "metadata": {},
     "output_type": "display_data"
    }
   ],
   "source": [
    "import matplotlib.patches as patches\n",
    "import matplotlib.path as path\n",
    "import math\n",
    "\n",
    "#Generate random points\n",
    "numberOfPoints = 10000\n",
    "randompoints = np.random.rand(numberOfPoints,2)*2\n",
    "xcor = randompoints[:,0]\n",
    "ycor = randompoints[:,1]\n",
    "#Create circle parameter\n",
    "radius = 0.5\n",
    "centre = (1,1)\n",
    "upperlimit = centre[0] + radius\n",
    "lowerlimit = centre[0] - radius\n",
    "\n",
    "circledatainput = np.zeros(shape=(len(xcor),2))\n",
    "circledataoutput = np.zeros(shape=(len(xcor),1))\n",
    "\n",
    "for i,j,count in zip(xcor,ycor, range(len(xcor))):\n",
    "    dist = math.sqrt((centre[0] - i) ** 2 + (centre[1] - j) ** 2)\n",
    "    circledatainput[count] = i,j\n",
    "    if (dist<=radius):\n",
    "        circledataoutput[count] = 1\n",
    "    else:\n",
    "        circledataoutput[count] = 0\n",
    "\n",
    "circledatainput = np.asarray(circledatainput)\n",
    "circledataoutput = np.asarray(circledataoutput)\n",
    "fig1 = plt.figure()\n",
    "ax1 = fig1.add_subplot(111, aspect='equal')\n",
    "ax1.add_patch(patches.Circle(centre, radius, fill= False))\n",
    "plt.ylim([0,2])\n",
    "plt.xlim([0,2])\n",
    "plt.scatter(circledatainput[:,0],circledatainput[:,1],color=['black' if i==1 else 'blue' for i in circledataoutput])\n",
    "plt.show()"
   ]
  },
  {
   "cell_type": "code",
   "execution_count": 68,
   "metadata": {},
   "outputs": [],
   "source": [
    "x = circledatainput\n",
    "y = circledataoutput\n",
    "\n",
    "# Parameters\n",
    "learning_rate = 0.1\n",
    "num_steps = 1000"
   ]
  },
  {
   "cell_type": "code",
   "execution_count": 74,
   "metadata": {},
   "outputs": [],
   "source": [
    "# Network Parameters\n",
    "n_hidden_1 = 3 # 1st layer number of neurons\n",
    "n_hidden_2 = 3 # 2nd layer number of neurons\n",
    "num_input = x.shape[1]\n",
    "num_classes = y.shape[1]\n",
    "\n",
    "# tf Graph input\n",
    "X = tf.placeholder(tf.float32, [None, num_input])\n",
    "Y = tf.placeholder(tf.float32, [None, num_classes])\n",
    "\n",
    "w1 = tf.Variable(tf.random_normal([num_input, n_hidden_1]))\n",
    "b1 = tf.Variable(tf.zeros([n_hidden_1]))\n",
    "\n",
    "w2 = tf.Variable(tf.random_normal([n_hidden_1, n_hidden_2]))\n",
    "b2 = tf.Variable(tf.zeros([n_hidden_2]))\n",
    "\n",
    "w3 = tf.Variable(tf.random_normal([n_hidden_2, num_classes]))\n",
    "b3 = tf.Variable(tf.zeros([num_classes]))"
   ]
  },
  {
   "cell_type": "code",
   "execution_count": 75,
   "metadata": {},
   "outputs": [],
   "source": [
    "# Create model\n",
    "hidden_layer1 = tf.nn.sigmoid(tf.matmul(X, w1) + b1) \n",
    "hidden_layer2 = tf.nn.sigmoid(tf.matmul(hidden_layer1, w2) + b2) \n",
    "out_layer = tf.nn.sigmoid(tf.matmul(hidden_layer2, w3) + b3) "
   ]
  },
  {
   "cell_type": "code",
   "execution_count": 78,
   "metadata": {},
   "outputs": [],
   "source": [
    "# Define loss and optimizer\n",
    "loss_op = tf.reduce_mean(tf.reduce_sum((y-out_layer)**2))\n",
    "\n",
    "optimizer = tf.train.AdamOptimizer(learning_rate)\n",
    "train_op = optimizer.minimize(loss_op)\n",
    "\n",
    "# Evaluate model\n",
    "correct_pred = tf.equal(tf.argmax(out_layer, 1), tf.argmax(Y, 1))\n",
    "accuracy = tf.reduce_mean(tf.cast(correct_pred, tf.float32))\n",
    "\n",
    "# Initialize the variables\n",
    "init = tf.global_variables_initializer()\n",
    "\n",
    "layer1grads = []\n",
    "layer2grads = []\n",
    "layer3grads = []\n",
    "\n",
    "# Start training\n",
    "with tf.Session() as sess:\n",
    "\n",
    "    # Run the initializer\n",
    "    sess.run(init)\n",
    "    for step in range(1, num_steps+1):\n",
    "        train, error, W1, W2, W3, B1, B2,B3 = sess.run([train_op, loss_op, w1, w2,w3, b1,b2,b3], feed_dict={X: x, Y: y})\n",
    "        layer1grads.append(W1[0,0])\n",
    "        layer2grads.append(W2[0,0])\n",
    "        layer3grads.append(W3[0,0])"
   ]
  },
  {
   "cell_type": "code",
   "execution_count": 79,
   "metadata": {},
   "outputs": [
    {
     "data": {
      "image/png": "[encoded data removed]",
      "text/plain": [
       "<matplotlib.figure.Figure at 0x11aee3dd0>"
      ]
     },
     "metadata": {},
     "output_type": "display_data"
    }
   ],
   "source": [
    "randompoints = np.linspace(0,10,num_steps)\n",
    "\n",
    "\n",
    "plt.plot(randompoints, layer1grads, color = 'blue')\n",
    "plt.plot(randompoints, layer2grads, color = 'black')\n",
    "plt.plot(randompoints, layer3grads, color = 'red')\n",
    "plt.show()"
   ]
  },
  {
   "cell_type": "markdown",
   "metadata": {},
   "source": [
    "# Relu"
   ]
  },
  {
   "cell_type": "code",
   "execution_count": 80,
   "metadata": {},
   "outputs": [
    {
     "data": {
      "image/png": "[encoded data removed]",
      "text/plain": [
       "<matplotlib.figure.Figure at 0x11b63be50>"
      ]
     },
     "metadata": {},
     "output_type": "display_data"
    }
   ],
   "source": [
    "# Create model\n",
    "hidden_layer1 = tf.nn.relu(tf.matmul(X, w1) + b1) \n",
    "hidden_layer2 = tf.nn.relu(tf.matmul(hidden_layer1, w2) + b2) \n",
    "out_layer = tf.nn.relu(tf.matmul(hidden_layer2, w3) + b3) \n",
    "\n",
    "# Define loss and optimizer\n",
    "loss_op = tf.reduce_mean(tf.reduce_sum((y-out_layer)**2))\n",
    "\n",
    "optimizer = tf.train.AdamOptimizer(learning_rate)\n",
    "train_op = optimizer.minimize(loss_op)\n",
    "\n",
    "# Evaluate model\n",
    "correct_pred = tf.equal(tf.argmax(out_layer, 1), tf.argmax(Y, 1))\n",
    "accuracy = tf.reduce_mean(tf.cast(correct_pred, tf.float32))\n",
    "\n",
    "# Initialize the variables\n",
    "init = tf.global_variables_initializer()\n",
    "\n",
    "layer1grads = []\n",
    "layer2grads = []\n",
    "layer3grads = []\n",
    "\n",
    "# Start training\n",
    "with tf.Session() as sess:\n",
    "\n",
    "    # Run the initializer\n",
    "    sess.run(init)\n",
    "    for step in range(1, num_steps+1):\n",
    "        train, error, W1, W2, W3, B1, B2,B3 = sess.run([train_op, loss_op, w1, w2,w3, b1,b2,b3], feed_dict={X: x, Y: y})\n",
    "        layer1grads.append(W1[0,0])\n",
    "        layer2grads.append(W2[0,0])\n",
    "        layer3grads.append(W3[0,0])\n",
    "        \n",
    "randompoints = np.linspace(0,10,num_steps)\n",
    "plt.plot(randompoints, layer1grads, color = 'blue')\n",
    "plt.plot(randompoints, layer2grads, color = 'black')\n",
    "plt.plot(randompoints, layer3grads, color = 'red')\n",
    "plt.show()"
   ]
  },
  {
   "cell_type": "markdown",
   "metadata": {},
   "source": [
    "# Tanh"
   ]
  },
  {
   "cell_type": "code",
   "execution_count": 81,
   "metadata": {},
   "outputs": [
    {
     "data": {
      "image/png": "[encoded data removed]",
      "text/plain": [
       "<matplotlib.figure.Figure at 0x11d991810>"
      ]
     },
     "metadata": {},
     "output_type": "display_data"
    }
   ],
   "source": [
    "# Create model\n",
    "hidden_layer1 = tf.nn.tanh(tf.matmul(X, w1) + b1) \n",
    "hidden_layer2 = tf.nn.tanh(tf.matmul(hidden_layer1, w2) + b2) \n",
    "out_layer = tf.nn.tanh(tf.matmul(hidden_layer2, w3) + b3) \n",
    "\n",
    "# Define loss and optimizer\n",
    "loss_op = tf.reduce_mean(tf.reduce_sum((y-out_layer)**2))\n",
    "\n",
    "optimizer = tf.train.AdamOptimizer(learning_rate)\n",
    "train_op = optimizer.minimize(loss_op)\n",
    "\n",
    "# Evaluate model\n",
    "correct_pred = tf.equal(tf.argmax(out_layer, 1), tf.argmax(Y, 1))\n",
    "accuracy = tf.reduce_mean(tf.cast(correct_pred, tf.float32))\n",
    "\n",
    "# Initialize the variables\n",
    "init = tf.global_variables_initializer()\n",
    "\n",
    "layer1grads = []\n",
    "layer2grads = []\n",
    "layer3grads = []\n",
    "\n",
    "# Start training\n",
    "with tf.Session() as sess:\n",
    "\n",
    "    # Run the initializer\n",
    "    sess.run(init)\n",
    "    for step in range(1, num_steps+1):\n",
    "        train, error, W1, W2, W3, B1, B2,B3 = sess.run([train_op, loss_op, w1, w2,w3, b1,b2,b3], feed_dict={X: x, Y: y})\n",
    "        layer1grads.append(W1[0,0])\n",
    "        layer2grads.append(W2[0,0])\n",
    "        layer3grads.append(W3[0,0])\n",
    "        \n",
    "randompoints = np.linspace(0,10,num_steps)\n",
    "plt.plot(randompoints, layer1grads, color = 'blue')\n",
    "plt.plot(randompoints, layer2grads, color = 'black')\n",
    "plt.plot(randompoints, layer3grads, color = 'red')\n",
    "plt.show()"
   ]
  },
  {
   "cell_type": "code",
   "execution_count": null,
   "metadata": {},
   "outputs": [],
   "source": []
  }
 ],
 "metadata": {
  "kernelspec": {
   "display_name": "Python 2",
   "language": "python",
   "name": "python2"
  },
  "language_info": {
   "codemirror_mode": {
    "name": "ipython",
    "version": 2
   },
   "file_extension": ".py",
   "mimetype": "text/x-python",
   "name": "python",
   "nbconvert_exporter": "python",
   "pygments_lexer": "ipython2",
   "version": "2.7.11"
  }
 },
 "nbformat": 4,
 "nbformat_minor": 2
}
